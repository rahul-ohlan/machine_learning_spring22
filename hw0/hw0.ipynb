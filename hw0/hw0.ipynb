{
 "cells": [
  {
   "cell_type": "code",
   "execution_count": 11,
   "metadata": {},
   "outputs": [],
   "source": [
    "def neighbourClassify(featureArray, trainArray):\n",
    "\n",
    "    res = list()\n",
    "\n",
    "    for height in featureArray:\n",
    "        min_gap = float('inf')\n",
    "        min_index = 0\n",
    "        for i in range(len(trainArray)):\n",
    "            gap = abs(height-trainArray[i][0])\n",
    "            if gap < min_gap:\n",
    "                min_gap = gap\n",
    "                min_index = i\n",
    "        \n",
    "        res.append(trainArray[min_index][1])\n",
    "    \n",
    "    return res"
   ]
  },
  {
   "cell_type": "code",
   "execution_count": 14,
   "metadata": {},
   "outputs": [],
   "source": [
    "featureArray = np.array([6,7,9])\n",
    "trainArray = np.array([[0.5,0],[1.5,0],[2.5,0],[4.5,1],[5,1],[7.5,1],[8,1],[9.2,1]])"
   ]
  },
  {
   "cell_type": "code",
   "execution_count": 15,
   "metadata": {},
   "outputs": [
    {
     "name": "stdout",
     "output_type": "stream",
     "text": [
      "[1. 1. 1.]\n"
     ]
    }
   ],
   "source": [
    "print(neighbourClassify(featureArray,trainArray))"
   ]
  },
  {
   "cell_type": "code",
   "execution_count": 8,
   "metadata": {},
   "outputs": [],
   "source": [
    "# 2. Find Precision Function\n",
    "def findPrecision(classifierOutput, trueLabels):\n",
    "    \n",
    "    n = len(classifierOutput)\n",
    "\n",
    "    den,num = 0,0\n",
    "    for i in range(n):\n",
    "        if classifierOutput[i]== 1:\n",
    "            den += 1\n",
    "            if trueLabels[i] == 1:\n",
    "                num +=1\n",
    "    \n",
    "    if den == 0 or num == 0:\n",
    "        return 0\n",
    "\n",
    "    return round((num/den),4)"
   ]
  },
  {
   "cell_type": "code",
   "execution_count": 9,
   "metadata": {},
   "outputs": [],
   "source": [
    "# 3. Remove Blanks\n",
    "def removeBlanks(featureArray):\n",
    "\n",
    "    res = list()\n",
    "\n",
    "    for i in range(len(featureArray)):\n",
    "\n",
    "        if featureArray[i][0] == 0 or featureArray[i][1] == 0:\n",
    "            continue\n",
    "\n",
    "        res.append(featureArray[i])\n",
    "\n",
    "    res = np.array(res)\n",
    "    return res"
   ]
  },
  {
   "cell_type": "code",
   "execution_count": 11,
   "metadata": {},
   "outputs": [
    {
     "name": "stdout",
     "output_type": "stream",
     "text": [
      "[[1 1]]\n"
     ]
    }
   ],
   "source": [
    "a = np.array([[0,1],[1,0],[1,1],[0,0]])\n",
    "featCorrect = removeBlanks(a)\n",
    "print(featCorrect)"
   ]
  },
  {
   "cell_type": "code",
   "execution_count": null,
   "metadata": {},
   "outputs": [],
   "source": []
  }
 ],
 "metadata": {
  "interpreter": {
   "hash": "b3ba2566441a7c06988d0923437866b63cedc61552a5af99d1f4fb67d367b25f"
  },
  "kernelspec": {
   "display_name": "Python 3.8.8 64-bit ('base': conda)",
   "language": "python",
   "name": "python3"
  },
  "language_info": {
   "codemirror_mode": {
    "name": "ipython",
    "version": 3
   },
   "file_extension": ".py",
   "mimetype": "text/x-python",
   "name": "python",
   "nbconvert_exporter": "python",
   "pygments_lexer": "ipython3",
   "version": "3.8.8"
  },
  "orig_nbformat": 4
 },
 "nbformat": 4,
 "nbformat_minor": 2
}
